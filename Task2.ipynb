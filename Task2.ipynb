{
  "nbformat": 4,
  "nbformat_minor": 0,
  "metadata": {
    "colab": {
      "provenance": []
    },
    "kernelspec": {
      "name": "python3",
      "display_name": "Python 3"
    },
    "language_info": {
      "name": "python"
    }
  },
  "cells": [
    {
      "cell_type": "markdown",
      "source": [
        "# Import Libraries"
      ],
      "metadata": {
        "id": "_ppqRuUBEK1e"
      }
    },
    {
      "cell_type": "code",
      "source": [
        "import zipfile"
      ],
      "metadata": {
        "id": "7R4RV-40EKPe"
      },
      "execution_count": 397,
      "outputs": []
    },
    {
      "cell_type": "code",
      "source": [
        "import pandas as pd\n",
        "import numpy as np\n",
        "from sklearn.feature_selection import VarianceThreshold, mutual_info_classif\n",
        "from sklearn.preprocessing import StandardScaler\n",
        "from sklearn.decomposition import PCA\n",
        "from sklearn.linear_model import LogisticRegression\n",
        "from sklearn.ensemble import RandomForestClassifier\n",
        "from sklearn.svm import SVC\n",
        "from sklearn.model_selection import GridSearchCV\n",
        "from sklearn.metrics import accuracy_score, roc_auc_score, recall_score, confusion_matrix, f1_score\n",
        "import matplotlib.pyplot as plt"
      ],
      "metadata": {
        "id": "-qsSuSOgKFa4"
      },
      "execution_count": 398,
      "outputs": []
    },
    {
      "cell_type": "code",
      "source": [
        "with zipfile.ZipFile(\"/content/TASK_2.zip\",\"r\") as zip_ref:\n",
        "  zip_ref.extractall(\"/content/datasets\")"
      ],
      "metadata": {
        "id": "86hgMnyPJy-w"
      },
      "execution_count": 399,
      "outputs": []
    },
    {
      "cell_type": "markdown",
      "source": [
        "# Data Load"
      ],
      "metadata": {
        "id": "11pyxbz2KMgS"
      }
    },
    {
      "cell_type": "code",
      "source": [
        "blinded_test_dataset = pd.read_csv(\"/content/datasets/TASK_2/blinded_test_set.csv\")\n",
        "test_dataset = pd.read_csv(\"/content/datasets/TASK_2/test_set.csv\")\n",
        "train_dataset = pd.read_csv(\"/content/datasets/TASK_2/train_set.csv\")"
      ],
      "metadata": {
        "id": "1magKUG7y81g"
      },
      "execution_count": 400,
      "outputs": []
    },
    {
      "cell_type": "code",
      "source": [
        "y_test = test_dataset[\"CLASS\"]\n",
        "y_train = train_dataset[\"CLASS\"]"
      ],
      "metadata": {
        "id": "b1JL1R4BE96T"
      },
      "execution_count": 401,
      "outputs": []
    },
    {
      "cell_type": "markdown",
      "source": [
        "# Data Exploration"
      ],
      "metadata": {
        "id": "koedQ7pHEWrH"
      }
    },
    {
      "cell_type": "code",
      "source": [
        "train_dataset.head()"
      ],
      "metadata": {
        "colab": {
          "base_uri": "https://localhost:8080/",
          "height": 256
        },
        "id": "TIFWIh-hEYs9",
        "outputId": "016cd1f8-0c5c-4f59-d502-51a3c6f93b83"
      },
      "execution_count": 402,
      "outputs": [
        {
          "output_type": "execute_result",
          "data": {
            "text/plain": [
              "     ID     Feature_1  Feature_2     Feature_3  Feature_4  Feature_5  \\\n",
              "0  ID_1  18281.541667    18432.0   9409.650391   0.514708   0.011300   \n",
              "1  ID_2  20010.083333    20100.0   8303.049072   0.417707   0.014959   \n",
              "2  ID_3  27260.125000    27437.0  12189.649414   0.447160   0.011428   \n",
              "3  ID_4  41938.125000    42138.0  17866.433594   0.426019   0.009908   \n",
              "4  ID_5  41274.125000    41439.0  14315.041992   0.346828   0.013596   \n",
              "\n",
              "   Feature_6  Feature_7  Feature_8  Feature_9  ...  Feature_3230  \\\n",
              "0   0.045369   2.803803   0.356658   1.803803  ...    382.968383   \n",
              "1   0.080294   2.338398   0.429532   1.338398  ...    452.986164   \n",
              "2   0.046402   2.782842   0.359345   1.782842  ...    419.781765   \n",
              "3   0.034878   3.060655   0.326727   2.060655  ...    439.023968   \n",
              "4   0.065680   2.478506   0.403469   1.478506  ...    485.209184   \n",
              "\n",
              "   Feature_3231  Feature_3232  Feature_3233  Feature_3234  Feature_3235  \\\n",
              "0        2214.0           1.0    136.625113      0.061710           0.0   \n",
              "1        2548.5           1.0    232.564022      0.090548           0.0   \n",
              "2        3400.0           1.0    233.593529      0.068704           0.0   \n",
              "3        5424.0           1.0    427.429572      0.078803           0.0   \n",
              "4        5096.0           1.0    726.731554      0.142608           0.0   \n",
              "\n",
              "   Feature_3236  Feature_3237  Feature_3238  CLASS  \n",
              "0     28.154838      4.174959      0.061710      0  \n",
              "1     27.934229      3.931950      0.090548      1  \n",
              "2     27.904807      4.085035      0.068704      1  \n",
              "3     27.870588      4.011726      0.078803      0  \n",
              "4     28.846909      3.571352      0.142608      0  \n",
              "\n",
              "[5 rows x 3240 columns]"
            ],
            "text/html": [
              "\n",
              "  <div id=\"df-26130401-5b46-42ea-a93d-4c47b20e8472\" class=\"colab-df-container\">\n",
              "    <div>\n",
              "<style scoped>\n",
              "    .dataframe tbody tr th:only-of-type {\n",
              "        vertical-align: middle;\n",
              "    }\n",
              "\n",
              "    .dataframe tbody tr th {\n",
              "        vertical-align: top;\n",
              "    }\n",
              "\n",
              "    .dataframe thead th {\n",
              "        text-align: right;\n",
              "    }\n",
              "</style>\n",
              "<table border=\"1\" class=\"dataframe\">\n",
              "  <thead>\n",
              "    <tr style=\"text-align: right;\">\n",
              "      <th></th>\n",
              "      <th>ID</th>\n",
              "      <th>Feature_1</th>\n",
              "      <th>Feature_2</th>\n",
              "      <th>Feature_3</th>\n",
              "      <th>Feature_4</th>\n",
              "      <th>Feature_5</th>\n",
              "      <th>Feature_6</th>\n",
              "      <th>Feature_7</th>\n",
              "      <th>Feature_8</th>\n",
              "      <th>Feature_9</th>\n",
              "      <th>...</th>\n",
              "      <th>Feature_3230</th>\n",
              "      <th>Feature_3231</th>\n",
              "      <th>Feature_3232</th>\n",
              "      <th>Feature_3233</th>\n",
              "      <th>Feature_3234</th>\n",
              "      <th>Feature_3235</th>\n",
              "      <th>Feature_3236</th>\n",
              "      <th>Feature_3237</th>\n",
              "      <th>Feature_3238</th>\n",
              "      <th>CLASS</th>\n",
              "    </tr>\n",
              "  </thead>\n",
              "  <tbody>\n",
              "    <tr>\n",
              "      <th>0</th>\n",
              "      <td>ID_1</td>\n",
              "      <td>18281.541667</td>\n",
              "      <td>18432.0</td>\n",
              "      <td>9409.650391</td>\n",
              "      <td>0.514708</td>\n",
              "      <td>0.011300</td>\n",
              "      <td>0.045369</td>\n",
              "      <td>2.803803</td>\n",
              "      <td>0.356658</td>\n",
              "      <td>1.803803</td>\n",
              "      <td>...</td>\n",
              "      <td>382.968383</td>\n",
              "      <td>2214.0</td>\n",
              "      <td>1.0</td>\n",
              "      <td>136.625113</td>\n",
              "      <td>0.061710</td>\n",
              "      <td>0.0</td>\n",
              "      <td>28.154838</td>\n",
              "      <td>4.174959</td>\n",
              "      <td>0.061710</td>\n",
              "      <td>0</td>\n",
              "    </tr>\n",
              "    <tr>\n",
              "      <th>1</th>\n",
              "      <td>ID_2</td>\n",
              "      <td>20010.083333</td>\n",
              "      <td>20100.0</td>\n",
              "      <td>8303.049072</td>\n",
              "      <td>0.417707</td>\n",
              "      <td>0.014959</td>\n",
              "      <td>0.080294</td>\n",
              "      <td>2.338398</td>\n",
              "      <td>0.429532</td>\n",
              "      <td>1.338398</td>\n",
              "      <td>...</td>\n",
              "      <td>452.986164</td>\n",
              "      <td>2548.5</td>\n",
              "      <td>1.0</td>\n",
              "      <td>232.564022</td>\n",
              "      <td>0.090548</td>\n",
              "      <td>0.0</td>\n",
              "      <td>27.934229</td>\n",
              "      <td>3.931950</td>\n",
              "      <td>0.090548</td>\n",
              "      <td>1</td>\n",
              "    </tr>\n",
              "    <tr>\n",
              "      <th>2</th>\n",
              "      <td>ID_3</td>\n",
              "      <td>27260.125000</td>\n",
              "      <td>27437.0</td>\n",
              "      <td>12189.649414</td>\n",
              "      <td>0.447160</td>\n",
              "      <td>0.011428</td>\n",
              "      <td>0.046402</td>\n",
              "      <td>2.782842</td>\n",
              "      <td>0.359345</td>\n",
              "      <td>1.782842</td>\n",
              "      <td>...</td>\n",
              "      <td>419.781765</td>\n",
              "      <td>3400.0</td>\n",
              "      <td>1.0</td>\n",
              "      <td>233.593529</td>\n",
              "      <td>0.068704</td>\n",
              "      <td>0.0</td>\n",
              "      <td>27.904807</td>\n",
              "      <td>4.085035</td>\n",
              "      <td>0.068704</td>\n",
              "      <td>1</td>\n",
              "    </tr>\n",
              "    <tr>\n",
              "      <th>3</th>\n",
              "      <td>ID_4</td>\n",
              "      <td>41938.125000</td>\n",
              "      <td>42138.0</td>\n",
              "      <td>17866.433594</td>\n",
              "      <td>0.426019</td>\n",
              "      <td>0.009908</td>\n",
              "      <td>0.034878</td>\n",
              "      <td>3.060655</td>\n",
              "      <td>0.326727</td>\n",
              "      <td>2.060655</td>\n",
              "      <td>...</td>\n",
              "      <td>439.023968</td>\n",
              "      <td>5424.0</td>\n",
              "      <td>1.0</td>\n",
              "      <td>427.429572</td>\n",
              "      <td>0.078803</td>\n",
              "      <td>0.0</td>\n",
              "      <td>27.870588</td>\n",
              "      <td>4.011726</td>\n",
              "      <td>0.078803</td>\n",
              "      <td>0</td>\n",
              "    </tr>\n",
              "    <tr>\n",
              "      <th>4</th>\n",
              "      <td>ID_5</td>\n",
              "      <td>41274.125000</td>\n",
              "      <td>41439.0</td>\n",
              "      <td>14315.041992</td>\n",
              "      <td>0.346828</td>\n",
              "      <td>0.013596</td>\n",
              "      <td>0.065680</td>\n",
              "      <td>2.478506</td>\n",
              "      <td>0.403469</td>\n",
              "      <td>1.478506</td>\n",
              "      <td>...</td>\n",
              "      <td>485.209184</td>\n",
              "      <td>5096.0</td>\n",
              "      <td>1.0</td>\n",
              "      <td>726.731554</td>\n",
              "      <td>0.142608</td>\n",
              "      <td>0.0</td>\n",
              "      <td>28.846909</td>\n",
              "      <td>3.571352</td>\n",
              "      <td>0.142608</td>\n",
              "      <td>0</td>\n",
              "    </tr>\n",
              "  </tbody>\n",
              "</table>\n",
              "<p>5 rows × 3240 columns</p>\n",
              "</div>\n",
              "    <div class=\"colab-df-buttons\">\n",
              "\n",
              "  <div class=\"colab-df-container\">\n",
              "    <button class=\"colab-df-convert\" onclick=\"convertToInteractive('df-26130401-5b46-42ea-a93d-4c47b20e8472')\"\n",
              "            title=\"Convert this dataframe to an interactive table.\"\n",
              "            style=\"display:none;\">\n",
              "\n",
              "  <svg xmlns=\"http://www.w3.org/2000/svg\" height=\"24px\" viewBox=\"0 -960 960 960\">\n",
              "    <path d=\"M120-120v-720h720v720H120Zm60-500h600v-160H180v160Zm220 220h160v-160H400v160Zm0 220h160v-160H400v160ZM180-400h160v-160H180v160Zm440 0h160v-160H620v160ZM180-180h160v-160H180v160Zm440 0h160v-160H620v160Z\"/>\n",
              "  </svg>\n",
              "    </button>\n",
              "\n",
              "  <style>\n",
              "    .colab-df-container {\n",
              "      display:flex;\n",
              "      gap: 12px;\n",
              "    }\n",
              "\n",
              "    .colab-df-convert {\n",
              "      background-color: #E8F0FE;\n",
              "      border: none;\n",
              "      border-radius: 50%;\n",
              "      cursor: pointer;\n",
              "      display: none;\n",
              "      fill: #1967D2;\n",
              "      height: 32px;\n",
              "      padding: 0 0 0 0;\n",
              "      width: 32px;\n",
              "    }\n",
              "\n",
              "    .colab-df-convert:hover {\n",
              "      background-color: #E2EBFA;\n",
              "      box-shadow: 0px 1px 2px rgba(60, 64, 67, 0.3), 0px 1px 3px 1px rgba(60, 64, 67, 0.15);\n",
              "      fill: #174EA6;\n",
              "    }\n",
              "\n",
              "    .colab-df-buttons div {\n",
              "      margin-bottom: 4px;\n",
              "    }\n",
              "\n",
              "    [theme=dark] .colab-df-convert {\n",
              "      background-color: #3B4455;\n",
              "      fill: #D2E3FC;\n",
              "    }\n",
              "\n",
              "    [theme=dark] .colab-df-convert:hover {\n",
              "      background-color: #434B5C;\n",
              "      box-shadow: 0px 1px 3px 1px rgba(0, 0, 0, 0.15);\n",
              "      filter: drop-shadow(0px 1px 2px rgba(0, 0, 0, 0.3));\n",
              "      fill: #FFFFFF;\n",
              "    }\n",
              "  </style>\n",
              "\n",
              "    <script>\n",
              "      const buttonEl =\n",
              "        document.querySelector('#df-26130401-5b46-42ea-a93d-4c47b20e8472 button.colab-df-convert');\n",
              "      buttonEl.style.display =\n",
              "        google.colab.kernel.accessAllowed ? 'block' : 'none';\n",
              "\n",
              "      async function convertToInteractive(key) {\n",
              "        const element = document.querySelector('#df-26130401-5b46-42ea-a93d-4c47b20e8472');\n",
              "        const dataTable =\n",
              "          await google.colab.kernel.invokeFunction('convertToInteractive',\n",
              "                                                    [key], {});\n",
              "        if (!dataTable) return;\n",
              "\n",
              "        const docLinkHtml = 'Like what you see? Visit the ' +\n",
              "          '<a target=\"_blank\" href=https://colab.research.google.com/notebooks/data_table.ipynb>data table notebook</a>'\n",
              "          + ' to learn more about interactive tables.';\n",
              "        element.innerHTML = '';\n",
              "        dataTable['output_type'] = 'display_data';\n",
              "        await google.colab.output.renderOutput(dataTable, element);\n",
              "        const docLink = document.createElement('div');\n",
              "        docLink.innerHTML = docLinkHtml;\n",
              "        element.appendChild(docLink);\n",
              "      }\n",
              "    </script>\n",
              "  </div>\n",
              "\n",
              "\n",
              "    <div id=\"df-2c7f86d4-f00c-4d0c-b33f-f12fc9e522f5\">\n",
              "      <button class=\"colab-df-quickchart\" onclick=\"quickchart('df-2c7f86d4-f00c-4d0c-b33f-f12fc9e522f5')\"\n",
              "                title=\"Suggest charts\"\n",
              "                style=\"display:none;\">\n",
              "\n",
              "<svg xmlns=\"http://www.w3.org/2000/svg\" height=\"24px\"viewBox=\"0 0 24 24\"\n",
              "     width=\"24px\">\n",
              "    <g>\n",
              "        <path d=\"M19 3H5c-1.1 0-2 .9-2 2v14c0 1.1.9 2 2 2h14c1.1 0 2-.9 2-2V5c0-1.1-.9-2-2-2zM9 17H7v-7h2v7zm4 0h-2V7h2v10zm4 0h-2v-4h2v4z\"/>\n",
              "    </g>\n",
              "</svg>\n",
              "      </button>\n",
              "\n",
              "<style>\n",
              "  .colab-df-quickchart {\n",
              "      --bg-color: #E8F0FE;\n",
              "      --fill-color: #1967D2;\n",
              "      --hover-bg-color: #E2EBFA;\n",
              "      --hover-fill-color: #174EA6;\n",
              "      --disabled-fill-color: #AAA;\n",
              "      --disabled-bg-color: #DDD;\n",
              "  }\n",
              "\n",
              "  [theme=dark] .colab-df-quickchart {\n",
              "      --bg-color: #3B4455;\n",
              "      --fill-color: #D2E3FC;\n",
              "      --hover-bg-color: #434B5C;\n",
              "      --hover-fill-color: #FFFFFF;\n",
              "      --disabled-bg-color: #3B4455;\n",
              "      --disabled-fill-color: #666;\n",
              "  }\n",
              "\n",
              "  .colab-df-quickchart {\n",
              "    background-color: var(--bg-color);\n",
              "    border: none;\n",
              "    border-radius: 50%;\n",
              "    cursor: pointer;\n",
              "    display: none;\n",
              "    fill: var(--fill-color);\n",
              "    height: 32px;\n",
              "    padding: 0;\n",
              "    width: 32px;\n",
              "  }\n",
              "\n",
              "  .colab-df-quickchart:hover {\n",
              "    background-color: var(--hover-bg-color);\n",
              "    box-shadow: 0 1px 2px rgba(60, 64, 67, 0.3), 0 1px 3px 1px rgba(60, 64, 67, 0.15);\n",
              "    fill: var(--button-hover-fill-color);\n",
              "  }\n",
              "\n",
              "  .colab-df-quickchart-complete:disabled,\n",
              "  .colab-df-quickchart-complete:disabled:hover {\n",
              "    background-color: var(--disabled-bg-color);\n",
              "    fill: var(--disabled-fill-color);\n",
              "    box-shadow: none;\n",
              "  }\n",
              "\n",
              "  .colab-df-spinner {\n",
              "    border: 2px solid var(--fill-color);\n",
              "    border-color: transparent;\n",
              "    border-bottom-color: var(--fill-color);\n",
              "    animation:\n",
              "      spin 1s steps(1) infinite;\n",
              "  }\n",
              "\n",
              "  @keyframes spin {\n",
              "    0% {\n",
              "      border-color: transparent;\n",
              "      border-bottom-color: var(--fill-color);\n",
              "      border-left-color: var(--fill-color);\n",
              "    }\n",
              "    20% {\n",
              "      border-color: transparent;\n",
              "      border-left-color: var(--fill-color);\n",
              "      border-top-color: var(--fill-color);\n",
              "    }\n",
              "    30% {\n",
              "      border-color: transparent;\n",
              "      border-left-color: var(--fill-color);\n",
              "      border-top-color: var(--fill-color);\n",
              "      border-right-color: var(--fill-color);\n",
              "    }\n",
              "    40% {\n",
              "      border-color: transparent;\n",
              "      border-right-color: var(--fill-color);\n",
              "      border-top-color: var(--fill-color);\n",
              "    }\n",
              "    60% {\n",
              "      border-color: transparent;\n",
              "      border-right-color: var(--fill-color);\n",
              "    }\n",
              "    80% {\n",
              "      border-color: transparent;\n",
              "      border-right-color: var(--fill-color);\n",
              "      border-bottom-color: var(--fill-color);\n",
              "    }\n",
              "    90% {\n",
              "      border-color: transparent;\n",
              "      border-bottom-color: var(--fill-color);\n",
              "    }\n",
              "  }\n",
              "</style>\n",
              "\n",
              "      <script>\n",
              "        async function quickchart(key) {\n",
              "          const quickchartButtonEl =\n",
              "            document.querySelector('#' + key + ' button');\n",
              "          quickchartButtonEl.disabled = true;  // To prevent multiple clicks.\n",
              "          quickchartButtonEl.classList.add('colab-df-spinner');\n",
              "          try {\n",
              "            const charts = await google.colab.kernel.invokeFunction(\n",
              "                'suggestCharts', [key], {});\n",
              "          } catch (error) {\n",
              "            console.error('Error during call to suggestCharts:', error);\n",
              "          }\n",
              "          quickchartButtonEl.classList.remove('colab-df-spinner');\n",
              "          quickchartButtonEl.classList.add('colab-df-quickchart-complete');\n",
              "        }\n",
              "        (() => {\n",
              "          let quickchartButtonEl =\n",
              "            document.querySelector('#df-2c7f86d4-f00c-4d0c-b33f-f12fc9e522f5 button');\n",
              "          quickchartButtonEl.style.display =\n",
              "            google.colab.kernel.accessAllowed ? 'block' : 'none';\n",
              "        })();\n",
              "      </script>\n",
              "    </div>\n",
              "\n",
              "    </div>\n",
              "  </div>\n"
            ],
            "application/vnd.google.colaboratory.intrinsic+json": {
              "type": "dataframe",
              "variable_name": "train_dataset"
            }
          },
          "metadata": {},
          "execution_count": 402
        }
      ]
    },
    {
      "cell_type": "code",
      "source": [
        "len(train_dataset)"
      ],
      "metadata": {
        "colab": {
          "base_uri": "https://localhost:8080/"
        },
        "id": "_n88-AaDKYi6",
        "outputId": "56819b8d-9e73-4d8d-a1cb-13a429c12bd1"
      },
      "execution_count": 403,
      "outputs": [
        {
          "output_type": "execute_result",
          "data": {
            "text/plain": [
              "315"
            ]
          },
          "metadata": {},
          "execution_count": 403
        }
      ]
    },
    {
      "cell_type": "code",
      "source": [
        "set(train_dataset[\"CLASS\"])"
      ],
      "metadata": {
        "colab": {
          "base_uri": "https://localhost:8080/"
        },
        "id": "CXMRSK02KvcC",
        "outputId": "05cddb4a-db3b-4477-d3ff-5ec5517bc224"
      },
      "execution_count": 404,
      "outputs": [
        {
          "output_type": "execute_result",
          "data": {
            "text/plain": [
              "{0, 1}"
            ]
          },
          "metadata": {},
          "execution_count": 404
        }
      ]
    },
    {
      "cell_type": "markdown",
      "source": [
        "Below it is observed most of features have zero variance"
      ],
      "metadata": {
        "id": "8onBvtNhEkOE"
      }
    },
    {
      "cell_type": "code",
      "source": [
        "train_dataset.describe()"
      ],
      "metadata": {
        "colab": {
          "base_uri": "https://localhost:8080/",
          "height": 350
        },
        "id": "ZzGTAg8fLVly",
        "outputId": "0809c3f0-e26c-4170-870e-40068ba5c996"
      },
      "execution_count": 405,
      "outputs": [
        {
          "output_type": "execute_result",
          "data": {
            "text/plain": [
              "           Feature_1      Feature_2     Feature_3   Feature_4   Feature_5  \\\n",
              "count     315.000000     315.000000    315.000000  315.000000  315.000000   \n",
              "mean    36401.611839   36558.978836  13421.797935    0.399783    0.013326   \n",
              "std     23979.228698   24006.711019   5229.346354    0.064272    0.002885   \n",
              "min      4601.166667    4646.000000   2420.351481    0.137726    0.008904   \n",
              "25%     23287.562500   23443.500000  10245.704590    0.357646    0.011459   \n",
              "50%     34818.166667   35028.000000  13894.792969    0.394076    0.012477   \n",
              "75%     45575.708333   45750.000000  16633.839844    0.434799    0.014242   \n",
              "max    332120.750000  332379.000000  45741.601562    0.643473    0.025418   \n",
              "\n",
              "        Feature_6   Feature_7   Feature_8   Feature_9    Feature_10  ...  \\\n",
              "count  315.000000  315.000000  315.000000  315.000000    315.000000  ...   \n",
              "mean     0.066770    2.572654    0.395949    1.572654    355.140036  ...   \n",
              "std      0.034442    0.305500    0.054492    0.305500   5460.014132  ...   \n",
              "min      0.028169    1.684709    0.304269    0.684709      1.262551  ...   \n",
              "25%      0.046652    2.403035    0.359990    1.403035     14.214779  ...   \n",
              "50%      0.055314    2.624547    0.381018    1.624547     24.110200  ...   \n",
              "75%      0.072065    2.777867    0.416141    1.777867     43.724701  ...   \n",
              "max      0.266032    3.286567    0.603905    2.286567  96940.788837  ...   \n",
              "\n",
              "       Feature_3230  Feature_3231  Feature_3232  Feature_3233  Feature_3234  \\\n",
              "count    315.000000    315.000000         315.0    315.000000    315.000000   \n",
              "mean     458.273347   4580.805291           1.0    620.374167      0.112015   \n",
              "std       39.628050   2980.121623           0.0   1254.417871      0.043563   \n",
              "min      309.374029    591.333333           1.0     45.791124      0.058477   \n",
              "25%      432.298489   2881.000000           1.0    245.299821      0.083622   \n",
              "50%      460.598280   4377.000000           1.0    424.561776      0.103960   \n",
              "75%      484.566083   5769.000000           1.0    702.791528      0.131579   \n",
              "max      636.069588  40797.000000           1.0  20921.640194      0.512823   \n",
              "\n",
              "       Feature_3235  Feature_3236  Feature_3237  Feature_3238       CLASS  \n",
              "count         315.0    315.000000    315.000000    315.000000  315.000000  \n",
              "mean            0.0     28.510670      3.792381      0.112015    0.393651  \n",
              "std             0.0      1.711272      0.257607      0.043563    0.489336  \n",
              "min             0.0     16.430985      1.995746      0.058477    0.000000  \n",
              "25%             0.0     27.691774      3.655440      0.083622    0.000000  \n",
              "50%             0.0     28.424340      3.815115      0.103960    0.000000  \n",
              "75%             0.0     29.450389      3.963320      0.131579    1.000000  \n",
              "max             0.0     35.149153      4.271132      0.512823    1.000000  \n",
              "\n",
              "[8 rows x 3239 columns]"
            ],
            "text/html": [
              "\n",
              "  <div id=\"df-60dc3ec7-fe84-4f7e-91f6-ee4d32ede79d\" class=\"colab-df-container\">\n",
              "    <div>\n",
              "<style scoped>\n",
              "    .dataframe tbody tr th:only-of-type {\n",
              "        vertical-align: middle;\n",
              "    }\n",
              "\n",
              "    .dataframe tbody tr th {\n",
              "        vertical-align: top;\n",
              "    }\n",
              "\n",
              "    .dataframe thead th {\n",
              "        text-align: right;\n",
              "    }\n",
              "</style>\n",
              "<table border=\"1\" class=\"dataframe\">\n",
              "  <thead>\n",
              "    <tr style=\"text-align: right;\">\n",
              "      <th></th>\n",
              "      <th>Feature_1</th>\n",
              "      <th>Feature_2</th>\n",
              "      <th>Feature_3</th>\n",
              "      <th>Feature_4</th>\n",
              "      <th>Feature_5</th>\n",
              "      <th>Feature_6</th>\n",
              "      <th>Feature_7</th>\n",
              "      <th>Feature_8</th>\n",
              "      <th>Feature_9</th>\n",
              "      <th>Feature_10</th>\n",
              "      <th>...</th>\n",
              "      <th>Feature_3230</th>\n",
              "      <th>Feature_3231</th>\n",
              "      <th>Feature_3232</th>\n",
              "      <th>Feature_3233</th>\n",
              "      <th>Feature_3234</th>\n",
              "      <th>Feature_3235</th>\n",
              "      <th>Feature_3236</th>\n",
              "      <th>Feature_3237</th>\n",
              "      <th>Feature_3238</th>\n",
              "      <th>CLASS</th>\n",
              "    </tr>\n",
              "  </thead>\n",
              "  <tbody>\n",
              "    <tr>\n",
              "      <th>count</th>\n",
              "      <td>315.000000</td>\n",
              "      <td>315.000000</td>\n",
              "      <td>315.000000</td>\n",
              "      <td>315.000000</td>\n",
              "      <td>315.000000</td>\n",
              "      <td>315.000000</td>\n",
              "      <td>315.000000</td>\n",
              "      <td>315.000000</td>\n",
              "      <td>315.000000</td>\n",
              "      <td>315.000000</td>\n",
              "      <td>...</td>\n",
              "      <td>315.000000</td>\n",
              "      <td>315.000000</td>\n",
              "      <td>315.0</td>\n",
              "      <td>315.000000</td>\n",
              "      <td>315.000000</td>\n",
              "      <td>315.0</td>\n",
              "      <td>315.000000</td>\n",
              "      <td>315.000000</td>\n",
              "      <td>315.000000</td>\n",
              "      <td>315.000000</td>\n",
              "    </tr>\n",
              "    <tr>\n",
              "      <th>mean</th>\n",
              "      <td>36401.611839</td>\n",
              "      <td>36558.978836</td>\n",
              "      <td>13421.797935</td>\n",
              "      <td>0.399783</td>\n",
              "      <td>0.013326</td>\n",
              "      <td>0.066770</td>\n",
              "      <td>2.572654</td>\n",
              "      <td>0.395949</td>\n",
              "      <td>1.572654</td>\n",
              "      <td>355.140036</td>\n",
              "      <td>...</td>\n",
              "      <td>458.273347</td>\n",
              "      <td>4580.805291</td>\n",
              "      <td>1.0</td>\n",
              "      <td>620.374167</td>\n",
              "      <td>0.112015</td>\n",
              "      <td>0.0</td>\n",
              "      <td>28.510670</td>\n",
              "      <td>3.792381</td>\n",
              "      <td>0.112015</td>\n",
              "      <td>0.393651</td>\n",
              "    </tr>\n",
              "    <tr>\n",
              "      <th>std</th>\n",
              "      <td>23979.228698</td>\n",
              "      <td>24006.711019</td>\n",
              "      <td>5229.346354</td>\n",
              "      <td>0.064272</td>\n",
              "      <td>0.002885</td>\n",
              "      <td>0.034442</td>\n",
              "      <td>0.305500</td>\n",
              "      <td>0.054492</td>\n",
              "      <td>0.305500</td>\n",
              "      <td>5460.014132</td>\n",
              "      <td>...</td>\n",
              "      <td>39.628050</td>\n",
              "      <td>2980.121623</td>\n",
              "      <td>0.0</td>\n",
              "      <td>1254.417871</td>\n",
              "      <td>0.043563</td>\n",
              "      <td>0.0</td>\n",
              "      <td>1.711272</td>\n",
              "      <td>0.257607</td>\n",
              "      <td>0.043563</td>\n",
              "      <td>0.489336</td>\n",
              "    </tr>\n",
              "    <tr>\n",
              "      <th>min</th>\n",
              "      <td>4601.166667</td>\n",
              "      <td>4646.000000</td>\n",
              "      <td>2420.351481</td>\n",
              "      <td>0.137726</td>\n",
              "      <td>0.008904</td>\n",
              "      <td>0.028169</td>\n",
              "      <td>1.684709</td>\n",
              "      <td>0.304269</td>\n",
              "      <td>0.684709</td>\n",
              "      <td>1.262551</td>\n",
              "      <td>...</td>\n",
              "      <td>309.374029</td>\n",
              "      <td>591.333333</td>\n",
              "      <td>1.0</td>\n",
              "      <td>45.791124</td>\n",
              "      <td>0.058477</td>\n",
              "      <td>0.0</td>\n",
              "      <td>16.430985</td>\n",
              "      <td>1.995746</td>\n",
              "      <td>0.058477</td>\n",
              "      <td>0.000000</td>\n",
              "    </tr>\n",
              "    <tr>\n",
              "      <th>25%</th>\n",
              "      <td>23287.562500</td>\n",
              "      <td>23443.500000</td>\n",
              "      <td>10245.704590</td>\n",
              "      <td>0.357646</td>\n",
              "      <td>0.011459</td>\n",
              "      <td>0.046652</td>\n",
              "      <td>2.403035</td>\n",
              "      <td>0.359990</td>\n",
              "      <td>1.403035</td>\n",
              "      <td>14.214779</td>\n",
              "      <td>...</td>\n",
              "      <td>432.298489</td>\n",
              "      <td>2881.000000</td>\n",
              "      <td>1.0</td>\n",
              "      <td>245.299821</td>\n",
              "      <td>0.083622</td>\n",
              "      <td>0.0</td>\n",
              "      <td>27.691774</td>\n",
              "      <td>3.655440</td>\n",
              "      <td>0.083622</td>\n",
              "      <td>0.000000</td>\n",
              "    </tr>\n",
              "    <tr>\n",
              "      <th>50%</th>\n",
              "      <td>34818.166667</td>\n",
              "      <td>35028.000000</td>\n",
              "      <td>13894.792969</td>\n",
              "      <td>0.394076</td>\n",
              "      <td>0.012477</td>\n",
              "      <td>0.055314</td>\n",
              "      <td>2.624547</td>\n",
              "      <td>0.381018</td>\n",
              "      <td>1.624547</td>\n",
              "      <td>24.110200</td>\n",
              "      <td>...</td>\n",
              "      <td>460.598280</td>\n",
              "      <td>4377.000000</td>\n",
              "      <td>1.0</td>\n",
              "      <td>424.561776</td>\n",
              "      <td>0.103960</td>\n",
              "      <td>0.0</td>\n",
              "      <td>28.424340</td>\n",
              "      <td>3.815115</td>\n",
              "      <td>0.103960</td>\n",
              "      <td>0.000000</td>\n",
              "    </tr>\n",
              "    <tr>\n",
              "      <th>75%</th>\n",
              "      <td>45575.708333</td>\n",
              "      <td>45750.000000</td>\n",
              "      <td>16633.839844</td>\n",
              "      <td>0.434799</td>\n",
              "      <td>0.014242</td>\n",
              "      <td>0.072065</td>\n",
              "      <td>2.777867</td>\n",
              "      <td>0.416141</td>\n",
              "      <td>1.777867</td>\n",
              "      <td>43.724701</td>\n",
              "      <td>...</td>\n",
              "      <td>484.566083</td>\n",
              "      <td>5769.000000</td>\n",
              "      <td>1.0</td>\n",
              "      <td>702.791528</td>\n",
              "      <td>0.131579</td>\n",
              "      <td>0.0</td>\n",
              "      <td>29.450389</td>\n",
              "      <td>3.963320</td>\n",
              "      <td>0.131579</td>\n",
              "      <td>1.000000</td>\n",
              "    </tr>\n",
              "    <tr>\n",
              "      <th>max</th>\n",
              "      <td>332120.750000</td>\n",
              "      <td>332379.000000</td>\n",
              "      <td>45741.601562</td>\n",
              "      <td>0.643473</td>\n",
              "      <td>0.025418</td>\n",
              "      <td>0.266032</td>\n",
              "      <td>3.286567</td>\n",
              "      <td>0.603905</td>\n",
              "      <td>2.286567</td>\n",
              "      <td>96940.788837</td>\n",
              "      <td>...</td>\n",
              "      <td>636.069588</td>\n",
              "      <td>40797.000000</td>\n",
              "      <td>1.0</td>\n",
              "      <td>20921.640194</td>\n",
              "      <td>0.512823</td>\n",
              "      <td>0.0</td>\n",
              "      <td>35.149153</td>\n",
              "      <td>4.271132</td>\n",
              "      <td>0.512823</td>\n",
              "      <td>1.000000</td>\n",
              "    </tr>\n",
              "  </tbody>\n",
              "</table>\n",
              "<p>8 rows × 3239 columns</p>\n",
              "</div>\n",
              "    <div class=\"colab-df-buttons\">\n",
              "\n",
              "  <div class=\"colab-df-container\">\n",
              "    <button class=\"colab-df-convert\" onclick=\"convertToInteractive('df-60dc3ec7-fe84-4f7e-91f6-ee4d32ede79d')\"\n",
              "            title=\"Convert this dataframe to an interactive table.\"\n",
              "            style=\"display:none;\">\n",
              "\n",
              "  <svg xmlns=\"http://www.w3.org/2000/svg\" height=\"24px\" viewBox=\"0 -960 960 960\">\n",
              "    <path d=\"M120-120v-720h720v720H120Zm60-500h600v-160H180v160Zm220 220h160v-160H400v160Zm0 220h160v-160H400v160ZM180-400h160v-160H180v160Zm440 0h160v-160H620v160ZM180-180h160v-160H180v160Zm440 0h160v-160H620v160Z\"/>\n",
              "  </svg>\n",
              "    </button>\n",
              "\n",
              "  <style>\n",
              "    .colab-df-container {\n",
              "      display:flex;\n",
              "      gap: 12px;\n",
              "    }\n",
              "\n",
              "    .colab-df-convert {\n",
              "      background-color: #E8F0FE;\n",
              "      border: none;\n",
              "      border-radius: 50%;\n",
              "      cursor: pointer;\n",
              "      display: none;\n",
              "      fill: #1967D2;\n",
              "      height: 32px;\n",
              "      padding: 0 0 0 0;\n",
              "      width: 32px;\n",
              "    }\n",
              "\n",
              "    .colab-df-convert:hover {\n",
              "      background-color: #E2EBFA;\n",
              "      box-shadow: 0px 1px 2px rgba(60, 64, 67, 0.3), 0px 1px 3px 1px rgba(60, 64, 67, 0.15);\n",
              "      fill: #174EA6;\n",
              "    }\n",
              "\n",
              "    .colab-df-buttons div {\n",
              "      margin-bottom: 4px;\n",
              "    }\n",
              "\n",
              "    [theme=dark] .colab-df-convert {\n",
              "      background-color: #3B4455;\n",
              "      fill: #D2E3FC;\n",
              "    }\n",
              "\n",
              "    [theme=dark] .colab-df-convert:hover {\n",
              "      background-color: #434B5C;\n",
              "      box-shadow: 0px 1px 3px 1px rgba(0, 0, 0, 0.15);\n",
              "      filter: drop-shadow(0px 1px 2px rgba(0, 0, 0, 0.3));\n",
              "      fill: #FFFFFF;\n",
              "    }\n",
              "  </style>\n",
              "\n",
              "    <script>\n",
              "      const buttonEl =\n",
              "        document.querySelector('#df-60dc3ec7-fe84-4f7e-91f6-ee4d32ede79d button.colab-df-convert');\n",
              "      buttonEl.style.display =\n",
              "        google.colab.kernel.accessAllowed ? 'block' : 'none';\n",
              "\n",
              "      async function convertToInteractive(key) {\n",
              "        const element = document.querySelector('#df-60dc3ec7-fe84-4f7e-91f6-ee4d32ede79d');\n",
              "        const dataTable =\n",
              "          await google.colab.kernel.invokeFunction('convertToInteractive',\n",
              "                                                    [key], {});\n",
              "        if (!dataTable) return;\n",
              "\n",
              "        const docLinkHtml = 'Like what you see? Visit the ' +\n",
              "          '<a target=\"_blank\" href=https://colab.research.google.com/notebooks/data_table.ipynb>data table notebook</a>'\n",
              "          + ' to learn more about interactive tables.';\n",
              "        element.innerHTML = '';\n",
              "        dataTable['output_type'] = 'display_data';\n",
              "        await google.colab.output.renderOutput(dataTable, element);\n",
              "        const docLink = document.createElement('div');\n",
              "        docLink.innerHTML = docLinkHtml;\n",
              "        element.appendChild(docLink);\n",
              "      }\n",
              "    </script>\n",
              "  </div>\n",
              "\n",
              "\n",
              "    <div id=\"df-e54dfc0d-36e7-4652-b808-737ee5564905\">\n",
              "      <button class=\"colab-df-quickchart\" onclick=\"quickchart('df-e54dfc0d-36e7-4652-b808-737ee5564905')\"\n",
              "                title=\"Suggest charts\"\n",
              "                style=\"display:none;\">\n",
              "\n",
              "<svg xmlns=\"http://www.w3.org/2000/svg\" height=\"24px\"viewBox=\"0 0 24 24\"\n",
              "     width=\"24px\">\n",
              "    <g>\n",
              "        <path d=\"M19 3H5c-1.1 0-2 .9-2 2v14c0 1.1.9 2 2 2h14c1.1 0 2-.9 2-2V5c0-1.1-.9-2-2-2zM9 17H7v-7h2v7zm4 0h-2V7h2v10zm4 0h-2v-4h2v4z\"/>\n",
              "    </g>\n",
              "</svg>\n",
              "      </button>\n",
              "\n",
              "<style>\n",
              "  .colab-df-quickchart {\n",
              "      --bg-color: #E8F0FE;\n",
              "      --fill-color: #1967D2;\n",
              "      --hover-bg-color: #E2EBFA;\n",
              "      --hover-fill-color: #174EA6;\n",
              "      --disabled-fill-color: #AAA;\n",
              "      --disabled-bg-color: #DDD;\n",
              "  }\n",
              "\n",
              "  [theme=dark] .colab-df-quickchart {\n",
              "      --bg-color: #3B4455;\n",
              "      --fill-color: #D2E3FC;\n",
              "      --hover-bg-color: #434B5C;\n",
              "      --hover-fill-color: #FFFFFF;\n",
              "      --disabled-bg-color: #3B4455;\n",
              "      --disabled-fill-color: #666;\n",
              "  }\n",
              "\n",
              "  .colab-df-quickchart {\n",
              "    background-color: var(--bg-color);\n",
              "    border: none;\n",
              "    border-radius: 50%;\n",
              "    cursor: pointer;\n",
              "    display: none;\n",
              "    fill: var(--fill-color);\n",
              "    height: 32px;\n",
              "    padding: 0;\n",
              "    width: 32px;\n",
              "  }\n",
              "\n",
              "  .colab-df-quickchart:hover {\n",
              "    background-color: var(--hover-bg-color);\n",
              "    box-shadow: 0 1px 2px rgba(60, 64, 67, 0.3), 0 1px 3px 1px rgba(60, 64, 67, 0.15);\n",
              "    fill: var(--button-hover-fill-color);\n",
              "  }\n",
              "\n",
              "  .colab-df-quickchart-complete:disabled,\n",
              "  .colab-df-quickchart-complete:disabled:hover {\n",
              "    background-color: var(--disabled-bg-color);\n",
              "    fill: var(--disabled-fill-color);\n",
              "    box-shadow: none;\n",
              "  }\n",
              "\n",
              "  .colab-df-spinner {\n",
              "    border: 2px solid var(--fill-color);\n",
              "    border-color: transparent;\n",
              "    border-bottom-color: var(--fill-color);\n",
              "    animation:\n",
              "      spin 1s steps(1) infinite;\n",
              "  }\n",
              "\n",
              "  @keyframes spin {\n",
              "    0% {\n",
              "      border-color: transparent;\n",
              "      border-bottom-color: var(--fill-color);\n",
              "      border-left-color: var(--fill-color);\n",
              "    }\n",
              "    20% {\n",
              "      border-color: transparent;\n",
              "      border-left-color: var(--fill-color);\n",
              "      border-top-color: var(--fill-color);\n",
              "    }\n",
              "    30% {\n",
              "      border-color: transparent;\n",
              "      border-left-color: var(--fill-color);\n",
              "      border-top-color: var(--fill-color);\n",
              "      border-right-color: var(--fill-color);\n",
              "    }\n",
              "    40% {\n",
              "      border-color: transparent;\n",
              "      border-right-color: var(--fill-color);\n",
              "      border-top-color: var(--fill-color);\n",
              "    }\n",
              "    60% {\n",
              "      border-color: transparent;\n",
              "      border-right-color: var(--fill-color);\n",
              "    }\n",
              "    80% {\n",
              "      border-color: transparent;\n",
              "      border-right-color: var(--fill-color);\n",
              "      border-bottom-color: var(--fill-color);\n",
              "    }\n",
              "    90% {\n",
              "      border-color: transparent;\n",
              "      border-bottom-color: var(--fill-color);\n",
              "    }\n",
              "  }\n",
              "</style>\n",
              "\n",
              "      <script>\n",
              "        async function quickchart(key) {\n",
              "          const quickchartButtonEl =\n",
              "            document.querySelector('#' + key + ' button');\n",
              "          quickchartButtonEl.disabled = true;  // To prevent multiple clicks.\n",
              "          quickchartButtonEl.classList.add('colab-df-spinner');\n",
              "          try {\n",
              "            const charts = await google.colab.kernel.invokeFunction(\n",
              "                'suggestCharts', [key], {});\n",
              "          } catch (error) {\n",
              "            console.error('Error during call to suggestCharts:', error);\n",
              "          }\n",
              "          quickchartButtonEl.classList.remove('colab-df-spinner');\n",
              "          quickchartButtonEl.classList.add('colab-df-quickchart-complete');\n",
              "        }\n",
              "        (() => {\n",
              "          let quickchartButtonEl =\n",
              "            document.querySelector('#df-e54dfc0d-36e7-4652-b808-737ee5564905 button');\n",
              "          quickchartButtonEl.style.display =\n",
              "            google.colab.kernel.accessAllowed ? 'block' : 'none';\n",
              "        })();\n",
              "      </script>\n",
              "    </div>\n",
              "\n",
              "    </div>\n",
              "  </div>\n"
            ],
            "application/vnd.google.colaboratory.intrinsic+json": {
              "type": "dataframe"
            }
          },
          "metadata": {},
          "execution_count": 405
        }
      ]
    },
    {
      "cell_type": "markdown",
      "source": [
        "## Class balance test"
      ],
      "metadata": {
        "id": "HAbhbDqZ5BKr"
      }
    },
    {
      "cell_type": "code",
      "source": [
        "train_dataset['CLASS'].value_counts()"
      ],
      "metadata": {
        "id": "OAzVwyMn5CzF",
        "colab": {
          "base_uri": "https://localhost:8080/",
          "height": 178
        },
        "outputId": "f257700e-c9b3-4c94-e339-dae79cc485d7"
      },
      "execution_count": 406,
      "outputs": [
        {
          "output_type": "execute_result",
          "data": {
            "text/plain": [
              "CLASS\n",
              "0    191\n",
              "1    124\n",
              "Name: count, dtype: int64"
            ],
            "text/html": [
              "<div>\n",
              "<style scoped>\n",
              "    .dataframe tbody tr th:only-of-type {\n",
              "        vertical-align: middle;\n",
              "    }\n",
              "\n",
              "    .dataframe tbody tr th {\n",
              "        vertical-align: top;\n",
              "    }\n",
              "\n",
              "    .dataframe thead th {\n",
              "        text-align: right;\n",
              "    }\n",
              "</style>\n",
              "<table border=\"1\" class=\"dataframe\">\n",
              "  <thead>\n",
              "    <tr style=\"text-align: right;\">\n",
              "      <th></th>\n",
              "      <th>count</th>\n",
              "    </tr>\n",
              "    <tr>\n",
              "      <th>CLASS</th>\n",
              "      <th></th>\n",
              "    </tr>\n",
              "  </thead>\n",
              "  <tbody>\n",
              "    <tr>\n",
              "      <th>0</th>\n",
              "      <td>191</td>\n",
              "    </tr>\n",
              "    <tr>\n",
              "      <th>1</th>\n",
              "      <td>124</td>\n",
              "    </tr>\n",
              "  </tbody>\n",
              "</table>\n",
              "</div><br><label><b>dtype:</b> int64</label>"
            ]
          },
          "metadata": {},
          "execution_count": 406
        }
      ]
    },
    {
      "cell_type": "markdown",
      "source": [
        "### Zero Variance Features"
      ],
      "metadata": {
        "id": "7dqUc_9yEr8k"
      }
    },
    {
      "cell_type": "code",
      "source": [
        "set(train_dataset[\"Feature_3232\"])"
      ],
      "metadata": {
        "colab": {
          "base_uri": "https://localhost:8080/"
        },
        "id": "Oa_A-NpKLg9m",
        "outputId": "276de387-450a-4d3e-d712-6b05a1bae266"
      },
      "execution_count": 407,
      "outputs": [
        {
          "output_type": "execute_result",
          "data": {
            "text/plain": [
              "{1.0}"
            ]
          },
          "metadata": {},
          "execution_count": 407
        }
      ]
    },
    {
      "cell_type": "code",
      "source": [
        "set(train_dataset[\"Feature_3235\"])"
      ],
      "metadata": {
        "colab": {
          "base_uri": "https://localhost:8080/"
        },
        "id": "gtdXUlggLzwS",
        "outputId": "cb670730-632d-413c-aa69-93cf8beabf99"
      },
      "execution_count": 408,
      "outputs": [
        {
          "output_type": "execute_result",
          "data": {
            "text/plain": [
              "{0.0}"
            ]
          },
          "metadata": {},
          "execution_count": 408
        }
      ]
    },
    {
      "cell_type": "code",
      "source": [],
      "metadata": {
        "id": "5MDNJ9DVL8zU"
      },
      "execution_count": 408,
      "outputs": []
    },
    {
      "cell_type": "markdown",
      "source": [
        "Extract  and Remove Zereo Variance Features"
      ],
      "metadata": {
        "id": "Q_nCp-S_Ez_h"
      }
    },
    {
      "cell_type": "code",
      "source": [
        "columns = train_dataset.columns\n",
        "redundant_columns = []\n",
        "for col in columns:\n",
        "  if len(set(train_dataset[col])) == 1:\n",
        "    redundant_columns.append(col)"
      ],
      "metadata": {
        "id": "roNy7rZOMK8C"
      },
      "execution_count": 409,
      "outputs": []
    },
    {
      "cell_type": "markdown",
      "source": [
        "Get ID for later use"
      ],
      "metadata": {
        "id": "wMvHAEekFfl4"
      }
    },
    {
      "cell_type": "code",
      "source": [
        "y_blinded_ID = blinded_test_dataset[\"ID\"]"
      ],
      "metadata": {
        "id": "17YUXW2GFdBR"
      },
      "execution_count": 410,
      "outputs": []
    },
    {
      "cell_type": "code",
      "source": [
        "blinded_test_dataset.drop(redundant_columns,axis=1,inplace=True)\n",
        "blinded_test_dataset.drop(\"ID\",axis=1,inplace=True)"
      ],
      "metadata": {
        "id": "eI4CGypzzvcN"
      },
      "execution_count": 411,
      "outputs": []
    },
    {
      "cell_type": "code",
      "source": [
        "redundant_columns.append(\"ID\")\n",
        "redundant_columns.append(\"CLASS\")\n",
        "features = train_dataset.drop(redundant_columns,axis=1)\n",
        "test_dataset = test_dataset.drop(redundant_columns,axis=1)"
      ],
      "metadata": {
        "id": "H2MFlX_SpMLs"
      },
      "execution_count": 412,
      "outputs": []
    },
    {
      "cell_type": "markdown",
      "source": [
        "# Null Values Columns"
      ],
      "metadata": {
        "id": "fi4WQ6PDuv5Z"
      }
    },
    {
      "cell_type": "code",
      "source": [
        "cols_with_nan = features.columns[features.isnull().any()]"
      ],
      "metadata": {
        "collapsed": true,
        "id": "PtslxhcpMm25"
      },
      "execution_count": 413,
      "outputs": []
    },
    {
      "cell_type": "code",
      "source": [
        "for col in cols_with_nan:\n",
        "  total_nan_rows = features[col].isnull().sum()\n",
        "  print(f\"{col} has {(total_nan_rows/features.shape[0])*100}% null values\")"
      ],
      "metadata": {
        "colab": {
          "base_uri": "https://localhost:8080/"
        },
        "id": "LlKP2Jzau5Nz",
        "outputId": "d845740f-d1dd-48df-8a6d-80d24d029671"
      },
      "execution_count": 414,
      "outputs": [
        {
          "output_type": "stream",
          "name": "stdout",
          "text": [
            "Feature_1712 has 36.82539682539683% null values\n",
            "Feature_1713 has 36.82539682539683% null values\n",
            "Feature_1714 has 36.82539682539683% null values\n",
            "Feature_1715 has 36.82539682539683% null values\n",
            "Feature_1716 has 36.82539682539683% null values\n",
            "Feature_1717 has 36.82539682539683% null values\n",
            "Feature_1718 has 36.82539682539683% null values\n",
            "Feature_1719 has 36.82539682539683% null values\n",
            "Feature_1720 has 36.82539682539683% null values\n",
            "Feature_1721 has 36.82539682539683% null values\n",
            "Feature_1722 has 36.82539682539683% null values\n",
            "Feature_1723 has 36.82539682539683% null values\n",
            "Feature_1724 has 36.82539682539683% null values\n",
            "Feature_1725 has 36.82539682539683% null values\n",
            "Feature_1726 has 36.82539682539683% null values\n",
            "Feature_1727 has 36.82539682539683% null values\n",
            "Feature_1728 has 36.82539682539683% null values\n",
            "Feature_1729 has 36.82539682539683% null values\n",
            "Feature_1730 has 36.82539682539683% null values\n",
            "Feature_1731 has 36.82539682539683% null values\n",
            "Feature_1732 has 36.82539682539683% null values\n",
            "Feature_1733 has 36.82539682539683% null values\n",
            "Feature_1734 has 36.82539682539683% null values\n"
          ]
        }
      ]
    },
    {
      "cell_type": "markdown",
      "source": [
        "Since 36% of records are empty those columns are removed"
      ],
      "metadata": {
        "id": "yaQNofakFrug"
      }
    },
    {
      "cell_type": "code",
      "source": [
        "features= features.drop(cols_with_nan,axis=1)\n",
        "test_dataset = test_dataset.drop(cols_with_nan,axis=1)\n",
        "blinded_test_dataset = blinded_test_dataset.drop(cols_with_nan,axis=1)"
      ],
      "metadata": {
        "id": "GcOC252fw4US"
      },
      "execution_count": 415,
      "outputs": []
    },
    {
      "cell_type": "markdown",
      "source": [
        "# Infinity Value Columns"
      ],
      "metadata": {
        "id": "snOYaz-3yU83"
      }
    },
    {
      "cell_type": "code",
      "source": [
        "cols_with_nan = features.columns[np.isinf(features).any()]\n",
        "print(cols_with_nan)"
      ],
      "metadata": {
        "colab": {
          "base_uri": "https://localhost:8080/"
        },
        "id": "iz7an0N3yYZi",
        "outputId": "39cdabbd-70fb-4438-e0f4-44c7b4c820c5"
      },
      "execution_count": 416,
      "outputs": [
        {
          "output_type": "stream",
          "name": "stdout",
          "text": [
            "Index(['Feature_72', 'Feature_90'], dtype='object')\n"
          ]
        }
      ]
    },
    {
      "cell_type": "code",
      "source": [
        "# len(features[features['Feature_72'] == np.inf])"
      ],
      "metadata": {
        "id": "mqmd-xS8zLca"
      },
      "execution_count": 417,
      "outputs": []
    },
    {
      "cell_type": "code",
      "source": [
        "features['Feature_72'].replace([np.inf, -np.inf], np.nan, inplace=True)\n",
        "features['Feature_72'].fillna(features['Feature_72'].median(), inplace=True)\n",
        "features['Feature_90'].replace([np.inf, -np.inf], np.nan, inplace=True)\n",
        "features['Feature_90'].fillna(features['Feature_90'].median(), inplace=True)"
      ],
      "metadata": {
        "id": "35mgqiTyzSoi",
        "colab": {
          "base_uri": "https://localhost:8080/"
        },
        "outputId": "d9afbad9-47ed-4c27-b42b-dbae647e6368"
      },
      "execution_count": 418,
      "outputs": [
        {
          "output_type": "stream",
          "name": "stderr",
          "text": [
            "<ipython-input-418-3bfe119617e7>:1: FutureWarning: A value is trying to be set on a copy of a DataFrame or Series through chained assignment using an inplace method.\n",
            "The behavior will change in pandas 3.0. This inplace method will never work because the intermediate object on which we are setting values always behaves as a copy.\n",
            "\n",
            "For example, when doing 'df[col].method(value, inplace=True)', try using 'df.method({col: value}, inplace=True)' or df[col] = df[col].method(value) instead, to perform the operation inplace on the original object.\n",
            "\n",
            "\n",
            "  features['Feature_72'].replace([np.inf, -np.inf], np.nan, inplace=True)\n",
            "<ipython-input-418-3bfe119617e7>:2: FutureWarning: A value is trying to be set on a copy of a DataFrame or Series through chained assignment using an inplace method.\n",
            "The behavior will change in pandas 3.0. This inplace method will never work because the intermediate object on which we are setting values always behaves as a copy.\n",
            "\n",
            "For example, when doing 'df[col].method(value, inplace=True)', try using 'df.method({col: value}, inplace=True)' or df[col] = df[col].method(value) instead, to perform the operation inplace on the original object.\n",
            "\n",
            "\n",
            "  features['Feature_72'].fillna(features['Feature_72'].median(), inplace=True)\n",
            "<ipython-input-418-3bfe119617e7>:3: FutureWarning: A value is trying to be set on a copy of a DataFrame or Series through chained assignment using an inplace method.\n",
            "The behavior will change in pandas 3.0. This inplace method will never work because the intermediate object on which we are setting values always behaves as a copy.\n",
            "\n",
            "For example, when doing 'df[col].method(value, inplace=True)', try using 'df.method({col: value}, inplace=True)' or df[col] = df[col].method(value) instead, to perform the operation inplace on the original object.\n",
            "\n",
            "\n",
            "  features['Feature_90'].replace([np.inf, -np.inf], np.nan, inplace=True)\n",
            "<ipython-input-418-3bfe119617e7>:4: FutureWarning: A value is trying to be set on a copy of a DataFrame or Series through chained assignment using an inplace method.\n",
            "The behavior will change in pandas 3.0. This inplace method will never work because the intermediate object on which we are setting values always behaves as a copy.\n",
            "\n",
            "For example, when doing 'df[col].method(value, inplace=True)', try using 'df.method({col: value}, inplace=True)' or df[col] = df[col].method(value) instead, to perform the operation inplace on the original object.\n",
            "\n",
            "\n",
            "  features['Feature_90'].fillna(features['Feature_90'].median(), inplace=True)\n"
          ]
        }
      ]
    },
    {
      "cell_type": "markdown",
      "source": [
        "## Correlation"
      ],
      "metadata": {
        "id": "jRIgpSorPjUW"
      }
    },
    {
      "cell_type": "markdown",
      "source": [
        "Remove features with more than 0.95 correlataion"
      ],
      "metadata": {
        "id": "edq113gZGJk5"
      }
    },
    {
      "cell_type": "code",
      "source": [
        "correlation_matrix = features.corr().abs()\n",
        "upper_triangle = correlation_matrix.where(np.triu(np.ones(correlation_matrix.shape), k=1).astype(bool))\n",
        "to_drop = [column for column in upper_triangle.columns if any(upper_triangle[column] > 0.95)]"
      ],
      "metadata": {
        "id": "6xie2pO9PqSH"
      },
      "execution_count": 419,
      "outputs": []
    },
    {
      "cell_type": "code",
      "source": [
        "features = features.drop(to_drop, axis=1)\n",
        "test_dataset = test_dataset.drop(to_drop, axis=1)\n",
        "blinded_test_dataset.drop(to_drop, axis=1, inplace=True)"
      ],
      "metadata": {
        "id": "xQB-IeDVP-AW"
      },
      "execution_count": 420,
      "outputs": []
    },
    {
      "cell_type": "markdown",
      "source": [
        "Threhold variance on 0.01"
      ],
      "metadata": {
        "id": "au_WqpTUGRIM"
      }
    },
    {
      "cell_type": "code",
      "source": [
        "from sklearn.feature_selection import VarianceThreshold\n",
        "\n",
        "selector = VarianceThreshold(threshold=0.01)  # you can tune this\n",
        "features_var = selector.fit_transform(features)\n",
        "selected_columns = features.columns[selector.get_support()]\n",
        "\n"
      ],
      "metadata": {
        "id": "tmAxyCNuSp-h"
      },
      "execution_count": 421,
      "outputs": []
    },
    {
      "cell_type": "code",
      "source": [
        "cleaned_features = features[selected_columns]"
      ],
      "metadata": {
        "id": "6B6cMNzjqe_Y"
      },
      "execution_count": 422,
      "outputs": []
    },
    {
      "cell_type": "markdown",
      "source": [
        "# Mutual Information calculation"
      ],
      "metadata": {
        "id": "sXsHReO2GY8k"
      }
    },
    {
      "cell_type": "code",
      "source": [
        "from sklearn.feature_selection import mutual_info_classif\n",
        "mi = mutual_info_classif(cleaned_features, train_dataset[\"CLASS\"])\n",
        "mi_series = pd.Series(mi, index=cleaned_features.columns)\n"
      ],
      "metadata": {
        "id": "U4hwI0aUqAc7"
      },
      "execution_count": 423,
      "outputs": []
    },
    {
      "cell_type": "markdown",
      "source": [
        "Remove features that are independent from target"
      ],
      "metadata": {
        "id": "hti8wQr6GhQ6"
      }
    },
    {
      "cell_type": "code",
      "source": [
        "greater_mi = mi_series[mi_series > 0].index\n",
        "len(greater_mi)\n"
      ],
      "metadata": {
        "id": "9C5wD5dyuoko",
        "colab": {
          "base_uri": "https://localhost:8080/"
        },
        "outputId": "d125ff91-13ab-4d2d-8913-44dff083813f"
      },
      "execution_count": 424,
      "outputs": [
        {
          "output_type": "execute_result",
          "data": {
            "text/plain": [
              "256"
            ]
          },
          "metadata": {},
          "execution_count": 424
        }
      ]
    },
    {
      "cell_type": "code",
      "source": [
        "X_selected = cleaned_features[greater_mi]"
      ],
      "metadata": {
        "id": "l_ywm_awsXPf"
      },
      "execution_count": 425,
      "outputs": []
    },
    {
      "cell_type": "code",
      "source": [
        "X_train = X_selected\n",
        "X_test = test_dataset[X_selected.columns]\n",
        "X_blind_test = blinded_test_dataset[X_selected.columns]"
      ],
      "metadata": {
        "id": "-2mM8Pz_shHD"
      },
      "execution_count": 426,
      "outputs": []
    },
    {
      "cell_type": "markdown",
      "source": [
        "# MODEL TRAIN"
      ],
      "metadata": {
        "id": "f7jvOCtUtuiv"
      }
    },
    {
      "cell_type": "code",
      "source": [
        "\n",
        "\n",
        "scaler = StandardScaler()\n",
        "X_train_scaled = scaler.fit_transform(X_train)\n",
        "X_test_scaled = scaler.transform(X_test)\n",
        "X_blinded_scaled = scaler.transform(X_blind_test)\n"
      ],
      "metadata": {
        "id": "9k_D4i0JtvfD"
      },
      "execution_count": 427,
      "outputs": []
    },
    {
      "cell_type": "code",
      "source": [
        "\n",
        "pca = PCA()\n",
        "X_train_pca = pca.fit_transform(X_train_scaled)\n",
        "\n",
        "# Plot the cumulative explained variance to decide on the number of components\n",
        "plt.figure(figsize=(8, 5))\n",
        "plt.plot(np.cumsum(pca.explained_variance_ratio_), marker='o')\n",
        "plt.xlabel('Number of Components')\n",
        "plt.ylabel('Cumulative Explained Variance')\n",
        "plt.title('Explained Variance vs. Number of Components')\n",
        "plt.grid(True)\n",
        "plt.show()\n"
      ],
      "metadata": {
        "colab": {
          "base_uri": "https://localhost:8080/",
          "height": 487
        },
        "id": "L4zb0JZwuA5G",
        "outputId": "1f917caa-15e4-406d-8d87-20704d2ad859"
      },
      "execution_count": 428,
      "outputs": [
        {
          "output_type": "display_data",
          "data": {
            "text/plain": [
              "<Figure size 800x500 with 1 Axes>"
            ],
            "image/png": "[encoded data removed]"
          },
          "metadata": {}
        }
      ]
    },
    {
      "cell_type": "code",
      "source": [
        "# Apply PCA with the component number 50 as it explains more than 95% variance\n",
        "pca = PCA(n_components=50)\n",
        "X_train_pca = pca.fit_transform(X_train_scaled)\n",
        "X_test_pca = pca.transform(X_test_scaled)\n",
        "X_blinded_pca = pca.transform(X_blinded_scaled)\n"
      ],
      "metadata": {
        "id": "7rRMki0guCc3"
      },
      "execution_count": 429,
      "outputs": []
    },
    {
      "cell_type": "code",
      "source": [
        "models = {\n",
        "    'Logistic Regression': LogisticRegression(max_iter=1000),\n",
        "    'Random Forest': RandomForestClassifier(),\n",
        "    'SVM': SVC(probability=True)\n",
        "}"
      ],
      "metadata": {
        "id": "TIjS1lVFuoJY"
      },
      "execution_count": 430,
      "outputs": []
    },
    {
      "cell_type": "code",
      "source": [
        "param_grids = {\n",
        "    'Logistic Regression': {'C': [0.01, 0.1, 1, 10], 'penalty': ['l2'], 'solver': ['lbfgs']},\n",
        "    'Random Forest': {'n_estimators': [100, 200], 'max_depth': [None, 10, 20], 'min_samples_split': [2, 5]},\n",
        "    'SVM': {'C': [0.1, 1, 10], 'kernel': ['linear', 'rbf']}\n",
        "}"
      ],
      "metadata": {
        "id": "_QG5XN0cu7QI"
      },
      "execution_count": 431,
      "outputs": []
    },
    {
      "cell_type": "code",
      "source": [
        "best_models = {}\n",
        "for model_name in models:\n",
        "    grid_search = GridSearchCV(models[model_name], param_grids[model_name], cv=5, scoring='accuracy')\n",
        "    grid_search.fit(X_train_pca, y_train)\n",
        "    best_models[model_name] = grid_search.best_estimator_\n",
        "    print(f\"Best {model_name}: {grid_search.best_params_}\")"
      ],
      "metadata": {
        "colab": {
          "base_uri": "https://localhost:8080/"
        },
        "id": "c6ToBxc4u9gx",
        "outputId": "f7577bc9-0347-4da3-93f0-ade01ad9bf72"
      },
      "execution_count": 432,
      "outputs": [
        {
          "output_type": "stream",
          "name": "stdout",
          "text": [
            "Best Logistic Regression: {'C': 0.01, 'penalty': 'l2', 'solver': 'lbfgs'}\n",
            "Best Random Forest: {'max_depth': 20, 'min_samples_split': 2, 'n_estimators': 200}\n",
            "Best SVM: {'C': 1, 'kernel': 'rbf'}\n"
          ]
        }
      ]
    },
    {
      "cell_type": "code",
      "source": [
        "def evaluate_model(model, X, y):\n",
        "    y_pred = model.predict(X)\n",
        "    y_proba = model.predict_proba(X)[:, 1]\n",
        "\n",
        "    accuracy = accuracy_score(y, y_pred)\n",
        "    auroc = roc_auc_score(y, y_proba)\n",
        "    sensitivity = recall_score(y, y_pred)\n",
        "    tn, fp, fn, tp = confusion_matrix(y, y_pred).ravel()\n",
        "    specificity = tn / (tn + fp)\n",
        "    f1 = f1_score(y, y_pred)\n",
        "\n",
        "    return {\n",
        "        'Accuracy': accuracy,\n",
        "        'AUROC': auroc,\n",
        "        'Sensitivity': sensitivity,\n",
        "        'Specificity': specificity,\n",
        "        'F1-score': f1\n",
        "    }\n",
        "\n",
        "# Evaluate models on the test set\n",
        "metrics = {}\n",
        "for model_name, model in best_models.items():\n",
        "    metrics[model_name] = evaluate_model(model, X_test_pca, y_test)\n",
        "\n",
        "metrics_df = pd.DataFrame(metrics).T\n",
        "print(metrics_df)\n"
      ],
      "metadata": {
        "colab": {
          "base_uri": "https://localhost:8080/"
        },
        "id": "ZAV7pBa3u_nC",
        "outputId": "cea1c02e-48a6-4aea-dfcf-1fdaea532742"
      },
      "execution_count": 433,
      "outputs": [
        {
          "output_type": "stream",
          "name": "stdout",
          "text": [
            "                     Accuracy     AUROC  Sensitivity  Specificity  F1-score\n",
            "Logistic Regression      0.65  0.680213     0.333333     0.879310  0.444444\n",
            "Random Forest            0.57  0.618021     0.190476     0.844828  0.271186\n",
            "SVM                      0.62  0.676519     0.214286     0.913793  0.321429\n"
          ]
        }
      ]
    },
    {
      "cell_type": "code",
      "source": [
        "probabilities = []\n",
        "\n",
        "# Iterate over each model\n",
        "for model_name, model in best_models.items():\n",
        "    # Get class probabilities for each sample\n",
        "    probas = model.predict_proba(X_blinded_pca)\n",
        "    # Convert to DataFrame and add model name as a prefix to column names\n",
        "    probas_df = pd.DataFrame(probas, columns=[f'{model_name}_Class_{i}' for i in range(probas.shape[1])])\n",
        "\n",
        "    probabilities.append(probas_df)\n",
        "\n",
        "\n",
        "probabilities_df = pd.concat(probabilities, axis=1)\n",
        "probabilities_df['id'] = y_blinded_ID.values\n"
      ],
      "metadata": {
        "id": "5zMBXmle6frn"
      },
      "execution_count": 434,
      "outputs": []
    },
    {
      "cell_type": "code",
      "source": [
        "probabilities_df.to_csv('blinded_test_class_probabilities_with_id.csv', index=False)"
      ],
      "metadata": {
        "id": "55QTDGk9ISX8"
      },
      "execution_count": 435,
      "outputs": []
    }
  ]
}